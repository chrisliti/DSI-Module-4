{
  "nbformat": 4,
  "nbformat_minor": 0,
  "metadata": {
    "colab": {
      "name": "Plant Disease Classification and Detection.ipynb",
      "provenance": []
    },
    "kernelspec": {
      "name": "python3",
      "display_name": "Python 3"
    },
    "language_info": {
      "name": "python"
    }
  },
  "cells": [
    {
      "cell_type": "markdown",
      "source": [
        "## 1. Overview"
      ],
      "metadata": {
        "id": "3hN6QY81pBrY"
      }
    },
    {
      "cell_type": "markdown",
      "source": [
        "This project is the capstone project for my Data Science Intensive Africa 2022 course.\n",
        "\n",
        "Human society needs to increase food production by an estimated 70% by 2050 to feed expected population of about 9 billion people.With 75% of the 9.2 million person labor force engaged in farming, the agricultural sector is the mainstay of the Kenyan economy. Plant disease outbreaks are increasing and threaten food security for the vulnerable in many areas of the world.\n",
        "Infectious diseases reduce potential yield by an average of 40% in developing world.\n",
        "Smartphones are a potential tool for reducing the impact of plant diseases.\n",
        "As of 2018 30% of 50 million kenyans were reported to own a smartphone.\n",
        "\n",
        "\n",
        "The project aims to help alleviate the above stated hunger problems contributed to by plant diseases by developing 2 applications:\n",
        " \n",
        "1. A plant disease classification web application.\n",
        "2. A plant disease object detection web application.\n",
        "\n",
        "The aim of the 2 applications is, that the classifier can be used by small-scale farmers via smartphones, whereas the object detection model can be utilized in large-scale farming. The object detection model can be integrated with drones for real-time disease detection and possibly can help in the automated spraying of infected plants.\n",
        "\n"
      ],
      "metadata": {
        "id": "333fSxz4pPE3"
      }
    },
    {
      "cell_type": "markdown",
      "source": [
        "## 2. Data"
      ],
      "metadata": {
        "id": "_DWOslGWrZnQ"
      }
    },
    {
      "cell_type": "markdown",
      "source": [
        "Two data sources were utilized for model development in this project.\n",
        "\n",
        "1. [Plant Village dataset](https://www.kaggle.com/datasets/emmarex/plantdisease): For disease classification model development.\n",
        "2. [Plant Doc](https://public.roboflow.com/object-detection/plantdoc): For object detection model development.\n",
        "\n",
        "For testing images and videos were sourced from my farm in Machakos, Kenya. \n",
        "\n",
        "For this project the focus was on two plants, tomatoes and maize.\n"
      ],
      "metadata": {
        "id": "MF-7fUIisJZF"
      }
    },
    {
      "cell_type": "markdown",
      "source": [
        "##3. Model Development"
      ],
      "metadata": {
        "id": "5pxs5xmJvHuF"
      }
    },
    {
      "cell_type": "markdown",
      "source": [
        "### 3.1 Plant Disease Classification"
      ],
      "metadata": {
        "id": "n_v9hoZEvPtp"
      }
    },
    {
      "cell_type": "markdown",
      "source": [
        "The plant disease classification model will be developed and deployed on a web application. It will target small holder farmers who can take photos on their smart-phones of the diseased plant leaves and identify the diseases using the web app.\n",
        "\n",
        "Transfer learning will be utilized for this model. The VGG19 model architecture will be downloaded from the Keras applications. The model will be customized and trained for the plant village dataset.\n",
        "\n",
        "For this project we will focus on the folllowing classes:\n",
        "\n",
        "- 3 maize diseases.\n",
        "- 8 tomato diseases\n",
        "- Maize healthy\n",
        "- Tomato healthy\n",
        "\n",
        "[Plant Disease Classification Notebook](https://github.com/chrisliti/DSI-Module-4/blob/main/VGG19__Disease_Classifier.ipynb)"
      ],
      "metadata": {
        "id": "cvGp7YBovmPK"
      }
    },
    {
      "cell_type": "markdown",
      "source": [
        "### 3.2 Plant Disease Object Detection"
      ],
      "metadata": {
        "id": "JR4udnNuxRpU"
      }
    },
    {
      "cell_type": "markdown",
      "source": [
        "The plant disease detection model will be developed and deployed on a web application. It will target large farming and automation. The model can be deployed in drones to automatically identify plant diseases on large scale farm via drone cameras.\n",
        "\n",
        "YOLOV5 algorithm will be utilized to train a model on custom data the Plant Doc dataset.\n",
        "\n",
        "[Plant Disease Object Detection Notebook](https://github.com/chrisliti/DSI-Module-4/blob/main/YOLOV5_Disease_Detection.ipynb)"
      ],
      "metadata": {
        "id": "V1smzAUlxiSb"
      }
    },
    {
      "cell_type": "markdown",
      "source": [
        "## 4. Model Deployment"
      ],
      "metadata": {
        "id": "5lN4V0h1y1nC"
      }
    },
    {
      "cell_type": "markdown",
      "source": [
        "The two web applications were developed using streamlit (open source app framework for creating data science web applications). The 2 developed models (classifier and detector) will be deployed in the backend of these web applications.\n",
        "\n",
        "1. [Plant Disease Classification Web Application Link](https://share.streamlit.io/chrisliti/dsi_capstone_disease_detection/streamlit_detection_app.py)\n",
        "2. [Plant Disease Detection Web Application Link](https://share.streamlit.io/chrisliti/dsi-capstone-classifier/main/app.py)\n",
        "\n",
        "Tomato images from my Machakos farm will be run on the applications as test sets."
      ],
      "metadata": {
        "id": "gX-OOLvjzAhi"
      }
    },
    {
      "cell_type": "markdown",
      "source": [
        "## 5. Next Steps"
      ],
      "metadata": {
        "id": "Gz9OSbaU1PAJ"
      }
    },
    {
      "cell_type": "markdown",
      "source": [
        "1. Fine tune the models to achieve higher accuracy.\n",
        "2. Research on the plant diseases to serve more quality information to the farmers.\n",
        "3. Deploy models as mobile applications.\n",
        "4. Intergrate plant disease object detection with a drone for automated disease detection (real time).\n"
      ],
      "metadata": {
        "id": "f4HnygOA1Tra"
      }
    },
    {
      "cell_type": "code",
      "source": [
        ""
      ],
      "metadata": {
        "id": "jLdL86MUvGsW"
      },
      "execution_count": null,
      "outputs": []
    }
  ]
}